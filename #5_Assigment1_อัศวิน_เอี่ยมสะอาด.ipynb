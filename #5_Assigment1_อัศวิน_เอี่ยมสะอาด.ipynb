{
  "nbformat": 4,
  "nbformat_minor": 0,
  "metadata": {
    "colab": {
      "name": "สำเนาของ #5_Assigment1_อัศวิน เอี่ยมสะอาด.ipynb",
      "provenance": [],
      "collapsed_sections": [],
      "include_colab_link": true
    },
    "kernelspec": {
      "name": "python3",
      "display_name": "Python 3"
    }
  },
  "cells": [
    {
      "cell_type": "markdown",
      "metadata": {
        "id": "view-in-github",
        "colab_type": "text"
      },
      "source": [
        "<a href=\"https://colab.research.google.com/github/Ausawin2016/30Daypy/blob/master/%235_Assigment1_%E0%B8%AD%E0%B8%B1%E0%B8%A8%E0%B8%A7%E0%B8%B4%E0%B8%99_%E0%B9%80%E0%B8%AD%E0%B8%B5%E0%B9%88%E0%B8%A2%E0%B8%A1%E0%B8%AA%E0%B8%B0%E0%B8%AD%E0%B8%B2%E0%B8%94.ipynb\" target=\"_parent\"><img src=\"https://colab.research.google.com/assets/colab-badge.svg\" alt=\"Open In Colab\"/></a>"
      ]
    },
    {
      "cell_type": "markdown",
      "metadata": {
        "id": "AqVlL-qo4TGw",
        "colab_type": "text"
      },
      "source": [
        "#**Wholesale Dataset**\n"
      ]
    },
    {
      "cell_type": "markdown",
      "metadata": {
        "id": "HKlQ-GXH4aY4",
        "colab_type": "text"
      },
      "source": [
        "ไฟล์ \"Wholesale customers data.csv\" (download จาก https://archive.ics.uci.edu/ml/machine-learning-databases/00292/) เป็นข้อมูลเกี่ยวกับยอดการขายสินค้าประเภทต่างๆ ในแต่ละภูมิภาค ผ่าน 2 ช่องทาง คือ Horeca (Hotel/Restaurant/Cafe) หรือ Retail จาก UCI Machine Learning Repository โดยแถวแรกเป็นชื่อคอลัมน์ และ แถวที่ 2 เป็นต้นไปเก็บข้อมูล\n",
        "\n",
        "ประเภทของสินค้า คือ fresh products, milk products, grocery products, forzen products, detergents and papers และ delicatessen\n",
        "\n",
        "คอลัมน์ CHANNEL เป็นช่องทางการขาย ที่มีค่าเป็น Horeca (Hotel/Restaurant/Cafe) หรือ Retail (1,2)\n",
        "คอลัมน์ REGION: เป็นภูมิภาค ได้แก่ Lisnon, Oporto หรือ Other (1,2,3)\n",
        "คอลัมน์ FRESH, MILK, GROCERY, FROZEN, DETERGENTS_PAPER, DELICATESSEN เป็นยอดขายของสินค้าแต่ละประเภทในภูมิภาคนั้น ผ่านช่องทางนั้นในหนึ่งปี"
      ]
    },
    {
      "cell_type": "markdown",
      "metadata": {
        "id": "aWHc1kgj_HFZ",
        "colab_type": "text"
      },
      "source": [
        "\n",
        "\n",
        "1) เขียนโปรแกรมเพื่อแปลงข้อมูลช่องทางการขายและภูมิภาค จากตัวเลขให้เป็นชื่อของแต่ละช่องทางการขายและภูมิภาคนั้น ๆ จากนั้นบันทึกเป็นไฟล์ใหม่ที่มีชื่อว่า Rename_Wholesale.csv โดยจะใช้ไฟล์นี้เป็นหลักในข้อถัดไป\n",
        "\n",
        "2) เขียนโปรแกรมเพื่อหายอดขายรวมจากทุกช่องทาง ในทุกภูมิภาค สำหรับสินค้าแต่ละประเภทแล้ววาด pie chart\n",
        "\n",
        "3) เขียนโปรแกรมเพื่อหายอดขายรวมของสินค้าทุกประเภท ในทุกช่องทาง สำหรับแต่ละภูมิภาคแล้ววาด pie chart\n",
        "\n",
        "4) เขียนโปรแกรมเพื่อหายอดขายรวมของสินค้าสำหรับทำความสะอาดในแต่ละช่องทางการขาย โดยแบ่งเป็นของแต่ละภูมิภาค พร้อมพล็อตกราฟของแต่ละภูมิภาค\n",
        "\n",
        "5) เขียนโปรแกรมเพื่อหาจำนวน record ที่ยอดขายของอาหารสดรวมกับอาหารแช่แข็งผ่านช่องทาง Horeca(Hotel/Restaurant/Cafe) ไม่เกิน 1,000 ชิ้น\n",
        "\n",
        "6) เขียนโปรแกรมเพื่อหาภูมิภาคที่มีการบริโภคนมมากที่สุด และในภูมิภาคนั้นมีการบริโภคนมมากกว่าอาหารสดทั้งหมดกี่ record"
      ]
    },
    {
      "cell_type": "markdown",
      "metadata": {
        "id": "RxkLg42e_4XV",
        "colab_type": "text"
      },
      "source": [
        "##1) เขียนโปรแกรมเพื่อแปลงข้อมูลช่องทางการขายและภูมิภาค จากตัวเลขให้เป็นชื่อของแต่ละช่องทางการขายและภูมิภาคนั้น ๆ จากนั้นบันทึกเป็นไฟล์ใหม่ที่มีชื่อว่า Rename_Wholesale.csv โดยจะใช้ไฟล์นี้เป็นหลักในข้อถัดไป"
      ]
    },
    {
      "cell_type": "code",
      "metadata": {
        "id": "7t7s8SY0n6Eh",
        "colab_type": "code",
        "colab": {
          "base_uri": "https://localhost:8080/",
          "height": 250
        },
        "outputId": "a3a5cd87-2f22-4e1e-e9c5-19e6cab775a7"
      },
      "source": [
        "import pandas as pd\n",
        "\n",
        "\n",
        "df = pd.read_csv('https://archive.ics.uci.edu/ml/machine-learning-databases/00292/Wholesale%20customers%20data.csv')\n",
        "\n",
        "df['Channel'].replace({1:\"Horeca\",2:\"Retail\"},inplace=True)\n",
        "df['Region'].replace({1:\"Lisnon\",2:\"Oporto\",3:\"Other\"},inplace=True)\n",
        "df.to_csv('Rename_Wholesale.csv')\n",
        "\n",
        "print(df)"
      ],
      "execution_count": 3,
      "outputs": [
        {
          "output_type": "stream",
          "text": [
            "    Channel Region  Fresh   Milk  Grocery  Frozen  Detergents_Paper  Delicassen\n",
            "0    Retail  Other  12669   9656     7561     214              2674        1338\n",
            "1    Retail  Other   7057   9810     9568    1762              3293        1776\n",
            "2    Retail  Other   6353   8808     7684    2405              3516        7844\n",
            "3    Horeca  Other  13265   1196     4221    6404               507        1788\n",
            "4    Retail  Other  22615   5410     7198    3915              1777        5185\n",
            "..      ...    ...    ...    ...      ...     ...               ...         ...\n",
            "435  Horeca  Other  29703  12051    16027   13135               182        2204\n",
            "436  Horeca  Other  39228   1431      764    4510                93        2346\n",
            "437  Retail  Other  14531  15488    30243     437             14841        1867\n",
            "438  Horeca  Other  10290   1981     2232    1038               168        2125\n",
            "439  Horeca  Other   2787   1698     2510      65               477          52\n",
            "\n",
            "[440 rows x 8 columns]\n"
          ],
          "name": "stdout"
        }
      ]
    },
    {
      "cell_type": "markdown",
      "metadata": {
        "id": "E-ZHAoStLxBv",
        "colab_type": "text"
      },
      "source": [
        "2) เขียนโปรแกรมเพื่อหายอดขายรวมจากทุกช่องทาง ในทุกภูมิภาค สำหรับสินค้าแต่ละประเภทแล้ววาด pie chart\n",
        "\n"
      ]
    },
    {
      "cell_type": "code",
      "metadata": {
        "id": "seXxNb7Bn8eg",
        "colab_type": "code",
        "colab": {
          "base_uri": "https://localhost:8080/",
          "height": 397
        },
        "outputId": "c55b3562-6f76-453c-be57-fba0ec60d043"
      },
      "source": [
        "#Solution\n",
        "sum_column = df.sum(axis=0,numeric_only=True)\n",
        "labels = list(df.columns)\n",
        "sum_val = sum_column.to_list()\n",
        "labels.remove('Channel')\n",
        "labels.remove('Region')\n",
        "\n",
        "\n",
        "print(sum_column)\n",
        "print(sum_val)\n",
        "print(labels)\n",
        "\n",
        "import matplotlib.pyplot as plt\n",
        "\n",
        "plt.pie(sum_val, labels=labels )\n",
        "plt.show()"
      ],
      "execution_count": 5,
      "outputs": [
        {
          "output_type": "stream",
          "text": [
            "Fresh               5280131\n",
            "Milk                2550357\n",
            "Grocery             3498562\n",
            "Frozen              1351650\n",
            "Detergents_Paper    1267857\n",
            "Delicassen           670943\n",
            "dtype: int64\n",
            "[5280131, 2550357, 3498562, 1351650, 1267857, 670943]\n",
            "['Fresh', 'Milk', 'Grocery', 'Frozen', 'Detergents_Paper', 'Delicassen']\n"
          ],
          "name": "stdout"
        },
        {
          "output_type": "display_data",
          "data": {
            "image/png": "[encoded data removed]",
            "text/plain": [
              "<Figure size 432x288 with 1 Axes>"
            ]
          },
          "metadata": {
            "tags": []
          }
        }
      ]
    },
    {
      "cell_type": "markdown",
      "metadata": {
        "id": "KEzo9D08zUI7",
        "colab_type": "text"
      },
      "source": [
        "##3) เขียนโปรแกรมเพื่อหายอดขายรวมของสินค้าทุกประเภท ในทุกช่องทาง สำหรับแต่ละภูมิภาคแล้ววาด pie chart"
      ]
    },
    {
      "cell_type": "code",
      "metadata": {
        "id": "L6fF0inBn9Jm",
        "colab_type": "code",
        "colab": {
          "base_uri": "https://localhost:8080/",
          "height": 347
        },
        "outputId": "f0f14a58-1404-4ab1-cc37-547085e501e0"
      },
      "source": [
        "#Solution\n",
        "sum_region1=df.groupby(['Region']).sum()\n",
        "sum_region2=sum_region1.sum(axis =1, skipna = True,numeric_only=True)\n",
        "\n",
        "print(sum_region2)\n",
        "labels = list(df.groupby(['Region']).groups.keys())\n",
        "sum_val2= sum_region2.to_list()\n",
        "print(sum_val2)\n",
        "\n",
        "import matplotlib.pyplot as plt\n",
        "\n",
        "plt.pie(sum_val2, labels=labels )\n",
        "plt.show()"
      ],
      "execution_count": 7,
      "outputs": [
        {
          "output_type": "stream",
          "text": [
            "Region\n",
            "Lisnon     2386813\n",
            "Oporto     1555088\n",
            "Other     10677599\n",
            "dtype: int64\n",
            "[2386813, 1555088, 10677599]\n"
          ],
          "name": "stdout"
        },
        {
          "output_type": "display_data",
          "data": {
            "image/png": "[encoded data removed]",
            "text/plain": [
              "<Figure size 432x288 with 1 Axes>"
            ]
          },
          "metadata": {
            "tags": []
          }
        }
      ]
    },
    {
      "cell_type": "markdown",
      "metadata": {
        "id": "9QWd21l29blB",
        "colab_type": "text"
      },
      "source": [
        "##4) เขียนโปรแกรมเพื่อหายอดขายรวมของสินค้าสำหรับทำความสะอาดในแต่ละช่องทางการขาย โดยแบ่งเป็นของแต่ละภูมิภาค พร้อมพล็อตกราฟของแต่ละภูมิภาค"
      ]
    },
    {
      "cell_type": "code",
      "metadata": {
        "id": "-_Slg0Tyn92x",
        "colab_type": "code",
        "colab": {
          "base_uri": "https://localhost:8080/",
          "height": 331
        },
        "outputId": "34172f9e-7e8f-425b-d06d-ef7da08a7a13"
      },
      "source": [
        "#Solution\n",
        "df_sum4=df.groupby(['Region'])['Detergents_Paper'].sum()\n",
        "labels4=list(df_sum4.keys())\n",
        "plt.pie(df_sum4,labels=labels4)\n",
        "print(df_sum4)\n",
        "plt.show()\n"
      ],
      "execution_count": 10,
      "outputs": [
        {
          "output_type": "stream",
          "text": [
            "Region\n",
            "Lisnon    204136\n",
            "Oporto    173311\n",
            "Other     890410\n",
            "Name: Detergents_Paper, dtype: int64\n"
          ],
          "name": "stdout"
        },
        {
          "output_type": "display_data",
          "data": {
            "image/png": "[encoded data removed]",
            "text/plain": [
              "<Figure size 432x288 with 1 Axes>"
            ]
          },
          "metadata": {
            "tags": []
          }
        }
      ]
    },
    {
      "cell_type": "markdown",
      "metadata": {
        "id": "Slm38QqAL-RI",
        "colab_type": "text"
      },
      "source": [
        "##5) เขียนโปรแกรมเพื่อหาจำนวนปีที่ยอดขายของอาหารสดรวมกับอาหารแช่แข็งผ่านช่องทาง Horeca(Hotel/Restaurant/Cafe) ไม่เกิน 1,000 ชิ้น"
      ]
    },
    {
      "cell_type": "code",
      "metadata": {
        "id": "B4zcE7fen-fE",
        "colab_type": "code",
        "colab": {
          "base_uri": "https://localhost:8080/",
          "height": 33
        },
        "outputId": "d883b0cb-17f2-4f25-8fc9-c271c7609dfc"
      },
      "source": [
        "#Solution\n",
        "sum_sales=df['Channel'][df['Channel']=='Horeca'][df['Fresh']+df['Frozen']<=1000].count()\n",
        "print(\"Number Record (Fresh+Frozen < 1000) : {}\".format(sum_sales))"
      ],
      "execution_count": 14,
      "outputs": [
        {
          "output_type": "stream",
          "text": [
            "Number Record (Fresh+Frozen < 1000) : 10\n"
          ],
          "name": "stdout"
        }
      ]
    },
    {
      "cell_type": "markdown",
      "metadata": {
        "id": "4bjUuOtxP2ui",
        "colab_type": "text"
      },
      "source": [
        "##6) เขียนโปรแกรมเพื่อหาภูมิภาคที่มีการบริโภคนมมากที่สุด และในภูมิภาคนั้นมีการบริโภคนมมากกว่าอาหารสดทั้งหมดกี่ปี"
      ]
    },
    {
      "cell_type": "code",
      "metadata": {
        "id": "u3Gk1A00n_EH",
        "colab_type": "code",
        "colab": {
          "base_uri": "https://localhost:8080/",
          "height": 100
        },
        "outputId": "574a699d-88e5-41ad-bd19-c91e70f31780"
      },
      "source": [
        "#Solution\n",
        "SumRgMilk=df.groupby(['Region'],as_index=False)['Milk'].max()\n",
        "Max_Rg_Milkk=SumRgMilk['Region'].max()\n",
        "print(SumRgMilk)\n",
        "print(\"Region of Max Sale Milk : {}\".format(Max_Rg_Milkk))\n",
        "\n"
      ],
      "execution_count": 31,
      "outputs": [
        {
          "output_type": "stream",
          "text": [
            "   Region   Milk\n",
            "0  Lisnon  28326\n",
            "1  Oporto  25071\n",
            "2   Other  73498\n",
            "Region of Max Sale Milk : Other\n"
          ],
          "name": "stdout"
        }
      ]
    }
  ]
}