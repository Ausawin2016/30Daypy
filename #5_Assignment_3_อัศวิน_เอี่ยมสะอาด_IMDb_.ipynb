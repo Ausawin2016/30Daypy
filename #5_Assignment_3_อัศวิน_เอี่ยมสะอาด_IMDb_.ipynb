{
  "nbformat": 4,
  "nbformat_minor": 0,
  "metadata": {
    "kernelspec": {
      "display_name": "Python 3",
      "language": "python",
      "name": "python3"
    },
    "language_info": {
      "codemirror_mode": {
        "name": "ipython",
        "version": 3
      },
      "file_extension": ".py",
      "mimetype": "text/x-python",
      "name": "python",
      "nbconvert_exporter": "python",
      "pygments_lexer": "ipython3",
      "version": "3.7.4"
    },
    "colab": {
      "name": "#5_Assignment 3_อัศวิน เอี่ยมสะอาด_IMDb .ipynb",
      "provenance": [],
      "collapsed_sections": [],
      "include_colab_link": true
    }
  },
  "cells": [
    {
      "cell_type": "markdown",
      "metadata": {
        "id": "view-in-github",
        "colab_type": "text"
      },
      "source": [
        "<a href=\"https://colab.research.google.com/github/Ausawin2016/30Daypy/blob/master/%235_Assignment_3_%E0%B8%AD%E0%B8%B1%E0%B8%A8%E0%B8%A7%E0%B8%B4%E0%B8%99_%E0%B9%80%E0%B8%AD%E0%B8%B5%E0%B9%88%E0%B8%A2%E0%B8%A1%E0%B8%AA%E0%B8%B0%E0%B8%AD%E0%B8%B2%E0%B8%94_IMDb_.ipynb\" target=\"_parent\"><img src=\"https://colab.research.google.com/assets/colab-badge.svg\" alt=\"Open In Colab\"/></a>"
      ]
    },
    {
      "cell_type": "markdown",
      "metadata": {
        "id": "z0INfx0o64RB",
        "colab_type": "text"
      },
      "source": [
        "# IMDb\n",
        "\n",
        "https://bit.ly/2TXtBhc\n",
        "\n",
        "เว็บ IMDb รวบรวมข้อมูลเกี่ยวกับภาพยนตร์ต่างๆ และตัดข้อมูลบางส่วนมาให้ใช้ทำการทดลองต่างๆ ได้ https://www.imdb.com/interfaces/\n",
        "\n",
        "โจทย์นี้คัดกรอง [ข้อมูลบางส่วนใน IMDb](https://drive.google.com/file/d/1V5VNg1WTMTS_eEOQqylektM9ZwdG1uq2/view?usp=sharing) มา โดยโดยมีไฟล์นี้อยู่\n",
        "\n",
        "**filteredCast.tsv**\n",
        "- tconst (string) - alphanumeric unique identifier of the title\n",
        "- ordering (integer) – a number to uniquely identify rows for a given titleId\n",
        "- nconst (string) - alphanumeric unique identifier of the name/person\n",
        "- category (string) - the category of job that person was in\n",
        "- job (string) - the specific job title if applicable, else '\\N'\n",
        "- characters (string) - the name of the character played if applicable, else '\\N'\n",
        "\n",
        "**filteredTitle.tsv**\n",
        "- tconst (string) - alphanumeric unique identifier of the title\n",
        "- titleType (string) – the type/format of the title (e.g. movie, short, tvseries, tvepisode, video, etc)\n",
        "- primaryTitle (string) – the more popular title / the title used by the filmmakers on promotional materials at the point of release\n",
        "- originalTitle (string) - original title, in the original language\n",
        "- isAdult (boolean) - 0: non-adult title; 1: adult title\n",
        "- startYear (YYYY) – represents the release year of a title. In the case of TV Series, it is the series start year\n",
        "- endYear (YYYY) – TV Series end year. ‘\\N’ for all other title types\n",
        "- runtimeMinutes – primary runtime of the title, in minutes\n",
        "- genres (string array) – includes up to three genres associated with the title\n",
        "\n",
        "**filteredStar.tsv**\n",
        "- nconst (string) - alphanumeric unique identifier of the name/person\n",
        "- primaryName (string)– name by which the person is most often credited\n",
        "- birthYear – in YYYY format\n",
        "- deathYear – in YYYY format if applicable, else '\\N'\n",
        "- primaryProfession (array of strings)– the top-3 professions of the person\n",
        "- knownForTitles (array of tconsts) – titles the person is known for"
      ]
    },
    {
      "cell_type": "markdown",
      "metadata": {
        "id": "Ty9jz8wK64RG",
        "colab_type": "text"
      },
      "source": [
        "# โจทย์\n",
        "\n",
        "1. มีภาพยนตร์กี่ประเภท (genres) แต่ละประเภทมีอย่างละกี่เรื่อง พร้อมพล็อตกราฟ\n",
        "2. มีนักแสดงชายและหญิงอย่างละกี่คน(นับจากไฟล์ filteredStar)\n",
        "3. นักแสดงที่ยังมีชีวิตมีอายุเท่าไหร่บ้าง แต่ละช่วงมีกี่คน\n",
        "4. มีนักแสดงกี่คนที่เคยแสดงในภาพยนตร์ Action\n",
        "5. มีนักแสดงกี่คนที่แสดงในภาพยนตร์มากกว่า 1 ประเภท\n",
        "6. มีภาพยนตร์ทั้งหมดกี่เรื่องที่เข้าฉายในปีอธิกสุรทิน\n",
        "7. มีผู้กำกับกี่คนที่เป็นนักแสดงด้วย\n",
        "8. หาจำนวนภาพยนต์แนวรอมคอมในแต่ละปี พร้อมพล็อตกราฟ(นับเฉพาะปีที่มีตั้งแต่ 1 เรื่องขึ้นไป)\n"
      ]
    },
    {
      "cell_type": "markdown",
      "metadata": {
        "id": "OdR8yexJGztv",
        "colab_type": "text"
      },
      "source": [
        "# 1. มีภาพยนตร์กี่ประเภท (genres) แต่ละประเภทมีอย่างละกี่เรื่อง พร้อมพล็อตกราฟ"
      ]
    },
    {
      "cell_type": "code",
      "metadata": {
        "id": "6JSDZ6pIA3o4",
        "colab_type": "code",
        "colab": {
          "base_uri": "https://localhost:8080/",
          "height": 436
        },
        "outputId": "e733a074-fc15-44c3-d897-fad65bacee11"
      },
      "source": [
        "import pandas as pd\n",
        "\n",
        "df_Cast =pd.read_csv(\"filteredCast-v2.tsv\",sep='\\t')\n",
        "df_Star= pd.read_csv(\"filteredStar-v2.tsv\",sep='\\t')\n",
        "df_Title = pd.read_csv(\"filteredTitle-v2.tsv\",sep='\\t')\n",
        "df_Title\n",
        "#df_Cast.head()\n",
        "#df_Star.head()"
      ],
      "execution_count": 85,
      "outputs": [
        {
          "output_type": "execute_result",
          "data": {
            "text/html": [
              "<div>\n",
              "<style scoped>\n",
              "    .dataframe tbody tr th:only-of-type {\n",
              "        vertical-align: middle;\n",
              "    }\n",
              "\n",
              "    .dataframe tbody tr th {\n",
              "        vertical-align: top;\n",
              "    }\n",
              "\n",
              "    .dataframe thead th {\n",
              "        text-align: right;\n",
              "    }\n",
              "</style>\n",
              "<table border=\"1\" class=\"dataframe\">\n",
              "  <thead>\n",
              "    <tr style=\"text-align: right;\">\n",
              "      <th></th>\n",
              "      <th>tconst</th>\n",
              "      <th>titleType</th>\n",
              "      <th>primaryTitle</th>\n",
              "      <th>originalTitle</th>\n",
              "      <th>isAdult</th>\n",
              "      <th>startYear</th>\n",
              "      <th>endYear</th>\n",
              "      <th>runtimeMinutes</th>\n",
              "      <th>genres</th>\n",
              "    </tr>\n",
              "  </thead>\n",
              "  <tbody>\n",
              "    <tr>\n",
              "      <th>0</th>\n",
              "      <td>tt0192789</td>\n",
              "      <td>movie</td>\n",
              "      <td>While Supplies Last</td>\n",
              "      <td>While Supplies Last</td>\n",
              "      <td>0</td>\n",
              "      <td>2002</td>\n",
              "      <td>\\N</td>\n",
              "      <td>120</td>\n",
              "      <td>Comedy,Musical</td>\n",
              "    </tr>\n",
              "    <tr>\n",
              "      <th>1</th>\n",
              "      <td>tt4914592</td>\n",
              "      <td>movie</td>\n",
              "      <td>Electric Heart</td>\n",
              "      <td>Electric Heart</td>\n",
              "      <td>0</td>\n",
              "      <td>2017</td>\n",
              "      <td>\\N</td>\n",
              "      <td>75</td>\n",
              "      <td>Adventure,Drama,Music</td>\n",
              "    </tr>\n",
              "    <tr>\n",
              "      <th>2</th>\n",
              "      <td>tt4999994</td>\n",
              "      <td>movie</td>\n",
              "      <td>Rain Doll</td>\n",
              "      <td>Rain Doll</td>\n",
              "      <td>0</td>\n",
              "      <td>2016</td>\n",
              "      <td>\\N</td>\n",
              "      <td>115</td>\n",
              "      <td>Drama</td>\n",
              "    </tr>\n",
              "    <tr>\n",
              "      <th>3</th>\n",
              "      <td>tt2690572</td>\n",
              "      <td>movie</td>\n",
              "      <td>The Blessed Ones</td>\n",
              "      <td>Polaris</td>\n",
              "      <td>0</td>\n",
              "      <td>2017</td>\n",
              "      <td>\\N</td>\n",
              "      <td>79</td>\n",
              "      <td>Drama</td>\n",
              "    </tr>\n",
              "    <tr>\n",
              "      <th>4</th>\n",
              "      <td>tt1562859</td>\n",
              "      <td>movie</td>\n",
              "      <td>Golmaal 3</td>\n",
              "      <td>Golmaal 3</td>\n",
              "      <td>0</td>\n",
              "      <td>2010</td>\n",
              "      <td>\\N</td>\n",
              "      <td>155</td>\n",
              "      <td>Action,Comedy</td>\n",
              "    </tr>\n",
              "    <tr>\n",
              "      <th>...</th>\n",
              "      <td>...</td>\n",
              "      <td>...</td>\n",
              "      <td>...</td>\n",
              "      <td>...</td>\n",
              "      <td>...</td>\n",
              "      <td>...</td>\n",
              "      <td>...</td>\n",
              "      <td>...</td>\n",
              "      <td>...</td>\n",
              "    </tr>\n",
              "    <tr>\n",
              "      <th>6288</th>\n",
              "      <td>tt5640450</td>\n",
              "      <td>movie</td>\n",
              "      <td>ARQ</td>\n",
              "      <td>ARQ</td>\n",
              "      <td>0</td>\n",
              "      <td>2016</td>\n",
              "      <td>\\N</td>\n",
              "      <td>88</td>\n",
              "      <td>Action,Sci-Fi,Thriller</td>\n",
              "    </tr>\n",
              "    <tr>\n",
              "      <th>6289</th>\n",
              "      <td>tt0404240</td>\n",
              "      <td>movie</td>\n",
              "      <td>Mission Mumbai</td>\n",
              "      <td>Mission Mumbai</td>\n",
              "      <td>0</td>\n",
              "      <td>2004</td>\n",
              "      <td>\\N</td>\n",
              "      <td>117</td>\n",
              "      <td>Action</td>\n",
              "    </tr>\n",
              "    <tr>\n",
              "      <th>6290</th>\n",
              "      <td>tt1310674</td>\n",
              "      <td>movie</td>\n",
              "      <td>Vashti Bunyan: From Here to Before</td>\n",
              "      <td>Vashti Bunyan: From Here to Before</td>\n",
              "      <td>0</td>\n",
              "      <td>2008</td>\n",
              "      <td>\\N</td>\n",
              "      <td>87</td>\n",
              "      <td>Documentary</td>\n",
              "    </tr>\n",
              "    <tr>\n",
              "      <th>6291</th>\n",
              "      <td>tt0204187</td>\n",
              "      <td>movie</td>\n",
              "      <td>Casa d'appuntamento... puttana dalla testa ai ...</td>\n",
              "      <td>Casa d'appuntamento... puttana dalla testa ai ...</td>\n",
              "      <td>1</td>\n",
              "      <td>1994</td>\n",
              "      <td>\\N</td>\n",
              "      <td>85</td>\n",
              "      <td>Adult</td>\n",
              "    </tr>\n",
              "    <tr>\n",
              "      <th>6292</th>\n",
              "      <td>tt1520836</td>\n",
              "      <td>movie</td>\n",
              "      <td>7 Deadly Sins: Inside the Ecomm Cult</td>\n",
              "      <td>7 Deadly Sins: Inside the Ecomm Cult</td>\n",
              "      <td>0</td>\n",
              "      <td>2009</td>\n",
              "      <td>\\N</td>\n",
              "      <td>68</td>\n",
              "      <td>Biography,Comedy,Crime</td>\n",
              "    </tr>\n",
              "  </tbody>\n",
              "</table>\n",
              "<p>6293 rows × 9 columns</p>\n",
              "</div>"
            ],
            "text/plain": [
              "         tconst titleType  ... runtimeMinutes                  genres\n",
              "0     tt0192789     movie  ...            120          Comedy,Musical\n",
              "1     tt4914592     movie  ...             75   Adventure,Drama,Music\n",
              "2     tt4999994     movie  ...            115                   Drama\n",
              "3     tt2690572     movie  ...             79                   Drama\n",
              "4     tt1562859     movie  ...            155           Action,Comedy\n",
              "...         ...       ...  ...            ...                     ...\n",
              "6288  tt5640450     movie  ...             88  Action,Sci-Fi,Thriller\n",
              "6289  tt0404240     movie  ...            117                  Action\n",
              "6290  tt1310674     movie  ...             87             Documentary\n",
              "6291  tt0204187     movie  ...             85                   Adult\n",
              "6292  tt1520836     movie  ...             68  Biography,Comedy,Crime\n",
              "\n",
              "[6293 rows x 9 columns]"
            ]
          },
          "metadata": {
            "tags": []
          },
          "execution_count": 85
        }
      ]
    },
    {
      "cell_type": "code",
      "metadata": {
        "id": "ihft_4uWd1lG",
        "colab_type": "code",
        "colab": {
          "base_uri": "https://localhost:8080/",
          "height": 68
        },
        "outputId": "d2913555-cc6e-4011-b43d-7fedcb30c6c2"
      },
      "source": [
        "sum_genres = df_Title.groupby(['genres']).sum()\n",
        "sum_genres.drop(labels= ['isAdult','startYear'], axis=1)\n",
        "sum_genres.sum()"
      ],
      "execution_count": 78,
      "outputs": [
        {
          "output_type": "execute_result",
          "data": {
            "text/plain": [
              "isAdult            76\n",
              "startYear    12647805\n",
              "dtype: int64"
            ]
          },
          "metadata": {
            "tags": []
          },
          "execution_count": 78
        }
      ]
    },
    {
      "cell_type": "code",
      "metadata": {
        "id": "tkjVw48bK5k_",
        "colab_type": "code",
        "colab": {
          "base_uri": "https://localhost:8080/",
          "height": 442
        },
        "outputId": "66310393-fed1-47b5-9f55-b5c2c6236c53"
      },
      "source": [
        "import itertools\n",
        "import pandas as pd\n",
        "import matplotlib.pyplot as plt\n",
        "\n",
        "unique_genres = df_Title['genres'].unique()\n",
        "individual_genres = []\n",
        "\n",
        "for genre in unique_genres:\n",
        "    individual_genres.append(genre.split(','))\n",
        "\n",
        "individual_genres = list(itertools.chain.from_iterable(individual_genres))\n",
        "individual_genres = set(individual_genres)\n",
        "\n",
        "individual_genres"
      ],
      "execution_count": 86,
      "outputs": [
        {
          "output_type": "execute_result",
          "data": {
            "text/plain": [
              "{'Action',\n",
              " 'Adult',\n",
              " 'Adventure',\n",
              " 'Animation',\n",
              " 'Biography',\n",
              " 'Comedy',\n",
              " 'Crime',\n",
              " 'Documentary',\n",
              " 'Drama',\n",
              " 'Family',\n",
              " 'Fantasy',\n",
              " 'History',\n",
              " 'Horror',\n",
              " 'Music',\n",
              " 'Musical',\n",
              " 'Mystery',\n",
              " 'News',\n",
              " 'Reality-TV',\n",
              " 'Romance',\n",
              " 'Sci-Fi',\n",
              " 'Sport',\n",
              " 'Thriller',\n",
              " 'War',\n",
              " 'Western',\n",
              " '\\\\N'}"
            ]
          },
          "metadata": {
            "tags": []
          },
          "execution_count": 86
        }
      ]
    },
    {
      "cell_type": "markdown",
      "metadata": {
        "id": "_m0OxQ3ER3Gj",
        "colab_type": "text"
      },
      "source": [
        ""
      ]
    },
    {
      "cell_type": "code",
      "metadata": {
        "id": "BDMQTDXZQEcm",
        "colab_type": "code",
        "colab": {
          "base_uri": "https://localhost:8080/",
          "height": 769
        },
        "outputId": "51253d0c-a2c5-40cd-eacb-87bd565bbe37"
      },
      "source": [
        "\n",
        " \n",
        "#individual_genres\n",
        " \n",
        "for genre in individual_genres:\n",
        "  if genre!='\\\\N':\n",
        "    current_genre = df_Title['genres'].str.contains(genre).fillna(False)\n",
        "    df_Title[current_genre].genres.value_counts().sort_index().plot(kind='bar', color='r', alpha=0.5, rot=45)\n",
        "    print(genre, len(df_Title[current_genre]))"
      ],
      "execution_count": 94,
      "outputs": [
        {
          "output_type": "stream",
          "text": [
            "Comedy 1694\n",
            "Sci-Fi 181\n",
            "Adventure 277\n",
            "Fantasy 218\n",
            "Romance 825\n",
            "Mystery 268\n",
            "Musical 74\n",
            "Action 733\n",
            "Sport 80\n",
            "Family 247\n",
            "Adult 56\n",
            "Horror 559\n",
            "Drama 3041\n",
            "Documentary 484\n",
            "Biography 178\n",
            "News 7\n",
            "Reality-TV 3\n",
            "Music 197\n",
            "War 83\n",
            "Western 22\n",
            "History 120\n",
            "Animation 132\n",
            "Thriller 726\n",
            "Crime 488\n"
          ],
          "name": "stdout"
        },
        {
          "output_type": "display_data",
          "data": {
            "image/png": "[encoded data removed]",
            "text/plain": [
              "<Figure size 432x288 with 1 Axes>"
            ]
          },
          "metadata": {
            "tags": [],
            "needs_background": "light"
          }
        }
      ]
    },
    {
      "cell_type": "markdown",
      "metadata": {
        "id": "DawKBj6AQJR9",
        "colab_type": "text"
      },
      "source": [
        "# 2. มีนักแสดงชายและหญิงอย่างละกี่คน(นับจากไฟล์ filteredStar)"
      ]
    },
    {
      "cell_type": "code",
      "metadata": {
        "id": "mUemvFPEA7it",
        "colab_type": "code",
        "colab": {}
      },
      "source": [
        "#solutio\n",
        "\n",
        "import pandas as pd\n",
        "\n",
        "#df_Cast =pd.read_csv(\"filteredCast-v2.tsv\",sep='\\t')\n",
        "df_Star= pd.read_csv(\"filteredStar-v2.tsv\",sep='\\t')\n",
        "#df_Title = pd.read_csv(\"filteredTitle-v2.tsv\",sep='\\t')\n",
        "df_Star"
      ],
      "execution_count": null,
      "outputs": []
    },
    {
      "cell_type": "code",
      "metadata": {
        "id": "0bQK_WpkP__K",
        "colab_type": "code",
        "colab": {
          "base_uri": "https://localhost:8080/",
          "height": 51
        },
        "outputId": "9a7c9f7a-e65d-455c-b109-af98449d4ff1"
      },
      "source": [
        "df_Sex = pd.merge(df_Cast, df_Star, on=['nconst'])\n",
        " \n",
        "sex_actor=df_Sex[df_Sex[\"category\"]=='actor'].count()[\"tconst\"]\n",
        "sex_actress=df_Sex[df_Sex[\"category\"]=='actress'].count()[\"tconst\"]\n",
        " \n",
        "print('Actor = ',sex_actor)\n",
        "print('Actree= ',sex_actress)"
      ],
      "execution_count": 101,
      "outputs": [
        {
          "output_type": "stream",
          "text": [
            "Actor :  4609\n",
            "Actree:  4528\n"
          ],
          "name": "stdout"
        }
      ]
    },
    {
      "cell_type": "markdown",
      "metadata": {
        "id": "DZfyXkpYQoFe",
        "colab_type": "text"
      },
      "source": [
        "# 3. นักแสดงที่ยังมีชีวิตมีอายุเท่าไหร่บ้าง แต่ละช่วงมีกี่คน"
      ]
    },
    {
      "cell_type": "code",
      "metadata": {
        "id": "APW7IFI5A8Kl",
        "colab_type": "code",
        "colab": {}
      },
      "source": [
        "#solution"
      ],
      "execution_count": null,
      "outputs": []
    },
    {
      "cell_type": "markdown",
      "metadata": {
        "id": "XfXfRTGWSNt_",
        "colab_type": "text"
      },
      "source": [
        "# 4. มีนักแสดงกี่คนที่เคยแสดงในภาพยนตร์ Action"
      ]
    },
    {
      "cell_type": "code",
      "metadata": {
        "id": "TOvdh6KHA8xa",
        "colab_type": "code",
        "colab": {
          "base_uri": "https://localhost:8080/",
          "height": 575
        },
        "outputId": "c6274a29-4369-4e02-8bd9-1ed9132c273d"
      },
      "source": [
        "#solution\n",
        "df_Title = pd.read_csv(\"filteredTitle-v2.tsv\",sep='\\t')\n",
        "df_Title"
      ],
      "execution_count": 92,
      "outputs": [
        {
          "output_type": "execute_result",
          "data": {
            "text/html": [
              "<div>\n",
              "<style scoped>\n",
              "    .dataframe tbody tr th:only-of-type {\n",
              "        vertical-align: middle;\n",
              "    }\n",
              "\n",
              "    .dataframe tbody tr th {\n",
              "        vertical-align: top;\n",
              "    }\n",
              "\n",
              "    .dataframe thead th {\n",
              "        text-align: right;\n",
              "    }\n",
              "</style>\n",
              "<table border=\"1\" class=\"dataframe\">\n",
              "  <thead>\n",
              "    <tr style=\"text-align: right;\">\n",
              "      <th></th>\n",
              "      <th>tconst</th>\n",
              "      <th>titleType</th>\n",
              "      <th>primaryTitle</th>\n",
              "      <th>originalTitle</th>\n",
              "      <th>isAdult</th>\n",
              "      <th>startYear</th>\n",
              "      <th>endYear</th>\n",
              "      <th>runtimeMinutes</th>\n",
              "      <th>genres</th>\n",
              "    </tr>\n",
              "  </thead>\n",
              "  <tbody>\n",
              "    <tr>\n",
              "      <th>0</th>\n",
              "      <td>tt0192789</td>\n",
              "      <td>movie</td>\n",
              "      <td>While Supplies Last</td>\n",
              "      <td>While Supplies Last</td>\n",
              "      <td>0</td>\n",
              "      <td>2002</td>\n",
              "      <td>\\N</td>\n",
              "      <td>120</td>\n",
              "      <td>Comedy,Musical</td>\n",
              "    </tr>\n",
              "    <tr>\n",
              "      <th>1</th>\n",
              "      <td>tt4914592</td>\n",
              "      <td>movie</td>\n",
              "      <td>Electric Heart</td>\n",
              "      <td>Electric Heart</td>\n",
              "      <td>0</td>\n",
              "      <td>2017</td>\n",
              "      <td>\\N</td>\n",
              "      <td>75</td>\n",
              "      <td>Adventure,Drama,Music</td>\n",
              "    </tr>\n",
              "    <tr>\n",
              "      <th>2</th>\n",
              "      <td>tt4999994</td>\n",
              "      <td>movie</td>\n",
              "      <td>Rain Doll</td>\n",
              "      <td>Rain Doll</td>\n",
              "      <td>0</td>\n",
              "      <td>2016</td>\n",
              "      <td>\\N</td>\n",
              "      <td>115</td>\n",
              "      <td>Drama</td>\n",
              "    </tr>\n",
              "    <tr>\n",
              "      <th>3</th>\n",
              "      <td>tt2690572</td>\n",
              "      <td>movie</td>\n",
              "      <td>The Blessed Ones</td>\n",
              "      <td>Polaris</td>\n",
              "      <td>0</td>\n",
              "      <td>2017</td>\n",
              "      <td>\\N</td>\n",
              "      <td>79</td>\n",
              "      <td>Drama</td>\n",
              "    </tr>\n",
              "    <tr>\n",
              "      <th>4</th>\n",
              "      <td>tt1562859</td>\n",
              "      <td>movie</td>\n",
              "      <td>Golmaal 3</td>\n",
              "      <td>Golmaal 3</td>\n",
              "      <td>0</td>\n",
              "      <td>2010</td>\n",
              "      <td>\\N</td>\n",
              "      <td>155</td>\n",
              "      <td>Action,Comedy</td>\n",
              "    </tr>\n",
              "    <tr>\n",
              "      <th>...</th>\n",
              "      <td>...</td>\n",
              "      <td>...</td>\n",
              "      <td>...</td>\n",
              "      <td>...</td>\n",
              "      <td>...</td>\n",
              "      <td>...</td>\n",
              "      <td>...</td>\n",
              "      <td>...</td>\n",
              "      <td>...</td>\n",
              "    </tr>\n",
              "    <tr>\n",
              "      <th>6288</th>\n",
              "      <td>tt5640450</td>\n",
              "      <td>movie</td>\n",
              "      <td>ARQ</td>\n",
              "      <td>ARQ</td>\n",
              "      <td>0</td>\n",
              "      <td>2016</td>\n",
              "      <td>\\N</td>\n",
              "      <td>88</td>\n",
              "      <td>Action,Sci-Fi,Thriller</td>\n",
              "    </tr>\n",
              "    <tr>\n",
              "      <th>6289</th>\n",
              "      <td>tt0404240</td>\n",
              "      <td>movie</td>\n",
              "      <td>Mission Mumbai</td>\n",
              "      <td>Mission Mumbai</td>\n",
              "      <td>0</td>\n",
              "      <td>2004</td>\n",
              "      <td>\\N</td>\n",
              "      <td>117</td>\n",
              "      <td>Action</td>\n",
              "    </tr>\n",
              "    <tr>\n",
              "      <th>6290</th>\n",
              "      <td>tt1310674</td>\n",
              "      <td>movie</td>\n",
              "      <td>Vashti Bunyan: From Here to Before</td>\n",
              "      <td>Vashti Bunyan: From Here to Before</td>\n",
              "      <td>0</td>\n",
              "      <td>2008</td>\n",
              "      <td>\\N</td>\n",
              "      <td>87</td>\n",
              "      <td>Documentary</td>\n",
              "    </tr>\n",
              "    <tr>\n",
              "      <th>6291</th>\n",
              "      <td>tt0204187</td>\n",
              "      <td>movie</td>\n",
              "      <td>Casa d'appuntamento... puttana dalla testa ai ...</td>\n",
              "      <td>Casa d'appuntamento... puttana dalla testa ai ...</td>\n",
              "      <td>1</td>\n",
              "      <td>1994</td>\n",
              "      <td>\\N</td>\n",
              "      <td>85</td>\n",
              "      <td>Adult</td>\n",
              "    </tr>\n",
              "    <tr>\n",
              "      <th>6292</th>\n",
              "      <td>tt1520836</td>\n",
              "      <td>movie</td>\n",
              "      <td>7 Deadly Sins: Inside the Ecomm Cult</td>\n",
              "      <td>7 Deadly Sins: Inside the Ecomm Cult</td>\n",
              "      <td>0</td>\n",
              "      <td>2009</td>\n",
              "      <td>\\N</td>\n",
              "      <td>68</td>\n",
              "      <td>Biography,Comedy,Crime</td>\n",
              "    </tr>\n",
              "  </tbody>\n",
              "</table>\n",
              "<p>6293 rows × 9 columns</p>\n",
              "</div>"
            ],
            "text/plain": [
              "         tconst titleType  ... runtimeMinutes                  genres\n",
              "0     tt0192789     movie  ...            120          Comedy,Musical\n",
              "1     tt4914592     movie  ...             75   Adventure,Drama,Music\n",
              "2     tt4999994     movie  ...            115                   Drama\n",
              "3     tt2690572     movie  ...             79                   Drama\n",
              "4     tt1562859     movie  ...            155           Action,Comedy\n",
              "...         ...       ...  ...            ...                     ...\n",
              "6288  tt5640450     movie  ...             88  Action,Sci-Fi,Thriller\n",
              "6289  tt0404240     movie  ...            117                  Action\n",
              "6290  tt1310674     movie  ...             87             Documentary\n",
              "6291  tt0204187     movie  ...             85                   Adult\n",
              "6292  tt1520836     movie  ...             68  Biography,Comedy,Crime\n",
              "\n",
              "[6293 rows x 9 columns]"
            ]
          },
          "metadata": {
            "tags": []
          },
          "execution_count": 92
        }
      ]
    },
    {
      "cell_type": "markdown",
      "metadata": {
        "id": "Hi5YsW-wTL4y",
        "colab_type": "text"
      },
      "source": [
        "# 5. มีนักแสดงกี่คนที่แสดงในภาพยนตร์มากกว่า 1 ประเภท"
      ]
    },
    {
      "cell_type": "code",
      "metadata": {
        "id": "5F9fYx3wA9h0",
        "colab_type": "code",
        "colab": {}
      },
      "source": [
        "#solution"
      ],
      "execution_count": null,
      "outputs": []
    },
    {
      "cell_type": "markdown",
      "metadata": {
        "id": "oBfgEXHF27S1",
        "colab_type": "text"
      },
      "source": [
        "#6. มีภาพยนตร์ทั้งหมดกี่เรื่องที่เข้าฉายในปีอธิกสุรทิน\n"
      ]
    },
    {
      "cell_type": "code",
      "metadata": {
        "id": "W2ulnz7JBA83",
        "colab_type": "code",
        "colab": {}
      },
      "source": [
        "#solution"
      ],
      "execution_count": null,
      "outputs": []
    },
    {
      "cell_type": "markdown",
      "metadata": {
        "id": "UUv4xcj6Gj0Q",
        "colab_type": "text"
      },
      "source": [
        "#7. มีผู้กำกับกี่คนที่เป็นนักแสดงด้วย"
      ]
    },
    {
      "cell_type": "code",
      "metadata": {
        "id": "a-k3BiSLBBm2",
        "colab_type": "code",
        "colab": {}
      },
      "source": [
        "#solution"
      ],
      "execution_count": null,
      "outputs": []
    },
    {
      "cell_type": "markdown",
      "metadata": {
        "id": "BfNuCFFfLU9i",
        "colab_type": "text"
      },
      "source": [
        "#8. หาจำนวนภาพยนต์แนวรอมคอมในแต่ละปี พร้อมพล็อตกราฟ(นับเฉพาะปีที่มีตั้งแต่ 1 เรื่องขึ้นไป)\n"
      ]
    },
    {
      "cell_type": "code",
      "metadata": {
        "id": "aWh1bH9IBCTF",
        "colab_type": "code",
        "colab": {}
      },
      "source": [
        "#solution"
      ],
      "execution_count": null,
      "outputs": []
    }
  ]
}